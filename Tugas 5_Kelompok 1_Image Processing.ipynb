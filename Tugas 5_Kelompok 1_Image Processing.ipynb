{
  "nbformat": 4,
  "nbformat_minor": 0,
  "metadata": {
    "colab": {
      "provenance": []
    },
    "kernelspec": {
      "name": "python3",
      "display_name": "Python 3"
    },
    "language_info": {
      "name": "python"
    }
  },
  "cells": [
    {
      "cell_type": "code",
      "execution_count": 1,
      "metadata": {
        "colab": {
          "base_uri": "https://localhost:8080/"
        },
        "id": "qUbLYLqVqVR4",
        "outputId": "81f09142-4625-43b4-ee4f-fe52aceb9a9c"
      },
      "outputs": [
        {
          "output_type": "stream",
          "name": "stdout",
          "text": [
            "Hasil konvolusi:\n",
            "[[ 25.2  36.   48.   40.8  32.4]\n",
            " [ 45.6  64.   84.   70.4  55.2]\n",
            " [ 72.  100.  130.  108.   84. ]\n",
            " [ 69.6  96.  124.  102.4  79.2]\n",
            " [ 61.2  84.  108.   88.8  68.4]]\n"
          ]
        }
      ],
      "source": [
        "# contoh sederhana\n",
        "import numpy as np\n",
        "\n",
        "def convolve(image, kernel):\n",
        "    \"\"\"\n",
        "    Melakukan operasi konvolusi pada citra dengan kernel tertentu.\n",
        "    \"\"\"\n",
        "    img_h, img_w = image.shape\n",
        "    k_h, k_w = kernel.shape\n",
        "    pad_h, pad_w = k_h // 2, k_w // 2\n",
        "\n",
        "    # Menambahkan padding ke citra\n",
        "    padded_image = np.pad(image, ((pad_h, pad_h), (pad_w, pad_w)), mode='constant', constant_values=0)\n",
        "\n",
        "    # Hasil konvolusi\n",
        "    output = np.zeros((img_h, img_w))\n",
        "\n",
        "    # Melakukan operasi konvolusi\n",
        "    for i in range(img_h):\n",
        "        for j in range(img_w):\n",
        "            region = padded_image[i:i+k_h, j:j+k_w]\n",
        "            output[i, j] = np.sum(region * kernel)\n",
        "\n",
        "    return output\n",
        "\n",
        "# Contoh citra grayscale sederhana (5x5)\n",
        "image = np.array([[10, 20, 30, 40, 50],\n",
        "                  [60, 70, 80, 90, 100],\n",
        "                  [110, 120, 130, 140, 150],\n",
        "                  [160, 170, 180, 190, 200],\n",
        "                  [210, 220, 230, 240, 250]])\n",
        "\n",
        "# Kernel perataan 5x5\n",
        "kernel = np.ones((5, 5)) / 25\n",
        "\n",
        "# Melakukan konvolusi\n",
        "result = convolve(image, kernel)\n",
        "print(\"Hasil konvolusi:\")\n",
        "print(result)\n"
      ]
    },
    {
      "cell_type": "code",
      "source": [
        "#contoh menggunakan gambar hitam putih\n",
        "import numpy as np\n",
        "from PIL import Image\n",
        "\n",
        "def convolve(image, kernel):\n",
        "    \"\"\"\n",
        "    Melakukan operasi konvolusi pada citra dengan kernel tertentu.\n",
        "    \"\"\"\n",
        "    img_h, img_w = image.shape\n",
        "    k_h, k_w = kernel.shape\n",
        "    pad_h, pad_w = k_h // 2, k_w // 2\n",
        "\n",
        "    # Menambahkan padding ke citra\n",
        "    padded_image = np.pad(image, ((pad_h, pad_h), (pad_w, pad_w)), mode='constant', constant_values=0)\n",
        "\n",
        "    # Hasil konvolusi\n",
        "    output = np.zeros((img_h, img_w))\n",
        "\n",
        "    # Melakukan operasi konvolusi\n",
        "    for i in range(img_h):\n",
        "        for j in range(img_w):\n",
        "            region = padded_image[i:i+k_h, j:j+k_w]\n",
        "            output[i, j] = np.sum(region * kernel)\n",
        "\n",
        "    return output\n",
        "\n",
        "# Membaca citra Unand.jpeg dan mengonversi ke grayscale\n",
        "image_path = \"Unand.jpeg\"\n",
        "image = Image.open(image_path).convert(\"L\")\n",
        "image = np.array(image, dtype=np.float32)\n",
        "\n",
        "# Kernel perataan 5x5\n",
        "kernel = np.ones((5, 5)) / 25\n",
        "\n",
        "# Melakukan konvolusi\n",
        "result = convolve(image, kernel)\n",
        "print(\"Hasil konvolusi berhasil diproses.\")\n",
        "\n",
        "# Simpan hasil citra setelah konvolusi\n",
        "result_image = Image.fromarray(result.astype(np.uint8))\n",
        "result_image.save(\"Unand_convolved.jpeg\")"
      ],
      "metadata": {
        "colab": {
          "base_uri": "https://localhost:8080/"
        },
        "id": "cCaiXz2HrDvG",
        "outputId": "b0bb5490-9365-4a1a-c977-65440dc4a047"
      },
      "execution_count": 2,
      "outputs": [
        {
          "output_type": "stream",
          "name": "stdout",
          "text": [
            "Hasil konvolusi berhasil diproses.\n"
          ]
        }
      ]
    },
    {
      "cell_type": "code",
      "source": [
        "#contoh menggunakan gambar tanpa mengubah warna\n",
        "import numpy as np\n",
        "from PIL import Image\n",
        "\n",
        "def convolve(image, kernel):\n",
        "    \"\"\"\n",
        "    Melakukan operasi konvolusi pada citra dengan kernel tertentu.\n",
        "    \"\"\"\n",
        "    img_h, img_w, channels = image.shape\n",
        "    k_h, k_w = kernel.shape\n",
        "    pad_h, pad_w = k_h // 2, k_w // 2\n",
        "\n",
        "    # Menambahkan padding ke citra\n",
        "    padded_image = np.pad(image, ((pad_h, pad_h), (pad_w, pad_w), (0, 0)), mode='constant', constant_values=0)\n",
        "\n",
        "    # Hasil konvolusi\n",
        "    output = np.zeros((img_h, img_w, channels))\n",
        "\n",
        "    # Melakukan operasi konvolusi pada setiap channel\n",
        "    for c in range(channels):\n",
        "        for i in range(img_h):\n",
        "            for j in range(img_w):\n",
        "                region = padded_image[i:i+k_h, j:j+k_w, c]\n",
        "                output[i, j, c] = np.sum(region * kernel)\n",
        "\n",
        "    return np.clip(output, 0, 255)  # Pastikan hasil tetap dalam rentang warna RGB\n",
        "\n",
        "# Membaca citra Unand.jpeg tanpa mengubah warna\n",
        "image_path = \"Unand.jpeg\"\n",
        "image = Image.open(image_path)\n",
        "image = np.array(image, dtype=np.float32)\n",
        "\n",
        "# Kernel perataan 5x5\n",
        "kernel = np.ones((5, 5)) / 25\n",
        "\n",
        "# Melakukan konvolusi pada citra berwarna\n",
        "result = convolve(image, kernel)\n",
        "print(\"Hasil konvolusi berhasil diproses.\")\n",
        "\n",
        "# Simpan hasil citra setelah konvolusi tanpa mengubah warna\n",
        "result_image = Image.fromarray(result.astype(np.uint8))\n",
        "result_image.save(\"Unand_convolved.jpeg\")\n"
      ],
      "metadata": {
        "colab": {
          "base_uri": "https://localhost:8080/"
        },
        "id": "p6CxBip6s5M-",
        "outputId": "3aef0985-f785-48b5-95d3-563895ee784f"
      },
      "execution_count": 3,
      "outputs": [
        {
          "output_type": "stream",
          "name": "stdout",
          "text": [
            "Hasil konvolusi berhasil diproses.\n"
          ]
        }
      ]
    }
  ]
}